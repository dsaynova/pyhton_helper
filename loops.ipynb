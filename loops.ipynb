{
 "cells": [
  {
   "cell_type": "code",
   "execution_count": 1,
   "metadata": {},
   "outputs": [],
   "source": [
    "import sys\n",
    "import time"
   ]
  },
  {
   "cell_type": "markdown",
   "metadata": {},
   "source": [
    "##### Printing progress of loop"
   ]
  },
  {
   "cell_type": "code",
   "execution_count": 2,
   "metadata": {},
   "outputs": [
    {
     "name": "stdout",
     "output_type": "stream",
     "text": [
      "10000 / 10000 complete. done 100% Elapsed: 18.3s\r"
     ]
    }
   ],
   "source": [
    "number = 10000\n",
    "st = time.time()\n",
    "for i in range(number):\n",
    "    print('{} / {} complete. done {}% Elapsed: {}s'\n",
    "          .format(i+1,number, int(i*100/number)+1, round(time.time()-st,1)), end = '\\r', flush = True)"
   ]
  },
  {
   "cell_type": "code",
   "execution_count": 3,
   "metadata": {},
   "outputs": [
    {
     "name": "stdout",
     "output_type": "stream",
     "text": [
      "10000 / 10000 complete. done 100% Started: 10:42:21 \r"
     ]
    }
   ],
   "source": [
    "number = 10000\n",
    "start_time = time.localtime()\n",
    "for i in range(number):\n",
    "    print('{} / {} complete. done {}% Started: {}:{}:{} '\n",
    "          .format(i+1,number, int(i*100/number)+1\n",
    "                  ,start_time.tm_hour,start_time.tm_min,start_time.tm_sec), end = '\\r', flush = True)"
   ]
  }
 ],
 "metadata": {
  "kernelspec": {
   "display_name": "Python 3",
   "language": "python",
   "name": "python3"
  },
  "language_info": {
   "codemirror_mode": {
    "name": "ipython",
    "version": 3
   },
   "file_extension": ".py",
   "mimetype": "text/x-python",
   "name": "python",
   "nbconvert_exporter": "python",
   "pygments_lexer": "ipython3",
   "version": "3.7.0"
  }
 },
 "nbformat": 4,
 "nbformat_minor": 2
}
